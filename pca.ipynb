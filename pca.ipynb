{
 "cells": [
  {
   "cell_type": "code",
   "execution_count": 56,
   "metadata": {},
   "outputs": [],
   "source": [
    "import pandas as pd\n",
    "import numpy as np"
   ]
  },
  {
   "cell_type": "code",
   "execution_count": 57,
   "metadata": {},
   "outputs": [],
   "source": [
    "data_path = \"E:\\\\study\\\\第四年\\\\知识分析\\\\PCA\\\\pca\\\\iris.data.txt\"\n",
    "data = pd.read_table(data_path,header=None,names=['a','b','c','d','e'], sep=',')"
   ]
  },
  {
   "cell_type": "code",
   "execution_count": 58,
   "metadata": {},
   "outputs": [],
   "source": [
    "feature = data.loc[:,['a','b','c','d']]"
   ]
  },
  {
   "cell_type": "code",
   "execution_count": 59,
   "metadata": {},
   "outputs": [],
   "source": [
    "f1 = data.loc[0:50,['a','b','c','d']]\n",
    "f2 = data.loc[50:100,['a','b','c','d']]\n",
    "f3 = data.loc[100:150,['a','b','c','d']]"
   ]
  },
  {
   "cell_type": "code",
   "execution_count": 75,
   "metadata": {},
   "outputs": [],
   "source": [
    "f1 = (np.matrix(f1)).T\n",
    "f2 = (np.matrix(f2)).T\n",
    "f3 = (np.matrix(f3)).T"
   ]
  },
  {
   "cell_type": "code",
   "execution_count": 60,
   "metadata": {},
   "outputs": [],
   "source": [
    "featuremat = (np.matrix(feature)).T"
   ]
  },
  {
   "cell_type": "code",
   "execution_count": 61,
   "metadata": {},
   "outputs": [],
   "source": [
    "for i in range(len(featuremat)):\n",
    "    featuremat[i] -= featuremat[i].mean()"
   ]
  },
  {
   "cell_type": "code",
   "execution_count": 62,
   "metadata": {},
   "outputs": [
    {
     "data": {
      "text/plain": [
       "matrix([[ -7.43333333e-01,  -9.43333333e-01,  -1.14333333e+00,\n",
       "          -1.24333333e+00,  -8.43333333e-01,  -4.43333333e-01,\n",
       "          -1.24333333e+00,  -8.43333333e-01,  -1.44333333e+00,\n",
       "          -9.43333333e-01,  -4.43333333e-01,  -1.04333333e+00,\n",
       "          -1.04333333e+00,  -1.54333333e+00,  -4.33333333e-02,\n",
       "          -1.43333333e-01,  -4.43333333e-01,  -7.43333333e-01,\n",
       "          -1.43333333e-01,  -7.43333333e-01,  -4.43333333e-01,\n",
       "          -7.43333333e-01,  -1.24333333e+00,  -7.43333333e-01,\n",
       "          -1.04333333e+00,  -8.43333333e-01,  -8.43333333e-01,\n",
       "          -6.43333333e-01,  -6.43333333e-01,  -1.14333333e+00,\n",
       "          -1.04333333e+00,  -4.43333333e-01,  -6.43333333e-01,\n",
       "          -3.43333333e-01,  -9.43333333e-01,  -8.43333333e-01,\n",
       "          -3.43333333e-01,  -9.43333333e-01,  -1.44333333e+00,\n",
       "          -7.43333333e-01,  -8.43333333e-01,  -1.34333333e+00,\n",
       "          -1.44333333e+00,  -8.43333333e-01,  -7.43333333e-01,\n",
       "          -1.04333333e+00,  -7.43333333e-01,  -1.24333333e+00,\n",
       "          -5.43333333e-01,  -8.43333333e-01,   1.15666667e+00,\n",
       "           5.56666667e-01,   1.05666667e+00,  -3.43333333e-01,\n",
       "           6.56666667e-01,  -1.43333333e-01,   4.56666667e-01,\n",
       "          -9.43333333e-01,   7.56666667e-01,  -6.43333333e-01,\n",
       "          -8.43333333e-01,   5.66666667e-02,   1.56666667e-01,\n",
       "           2.56666667e-01,  -2.43333333e-01,   8.56666667e-01,\n",
       "          -2.43333333e-01,  -4.33333333e-02,   3.56666667e-01,\n",
       "          -2.43333333e-01,   5.66666667e-02,   2.56666667e-01,\n",
       "           4.56666667e-01,   2.56666667e-01,   5.56666667e-01,\n",
       "           7.56666667e-01,   9.56666667e-01,   8.56666667e-01,\n",
       "           1.56666667e-01,  -1.43333333e-01,  -3.43333333e-01,\n",
       "          -3.43333333e-01,  -4.33333333e-02,   1.56666667e-01,\n",
       "          -4.43333333e-01,   1.56666667e-01,   8.56666667e-01,\n",
       "           4.56666667e-01,  -2.43333333e-01,  -3.43333333e-01,\n",
       "          -3.43333333e-01,   2.56666667e-01,  -4.33333333e-02,\n",
       "          -8.43333333e-01,  -2.43333333e-01,  -1.43333333e-01,\n",
       "          -1.43333333e-01,   3.56666667e-01,  -7.43333333e-01,\n",
       "          -1.43333333e-01,   4.56666667e-01,  -4.33333333e-02,\n",
       "           1.25666667e+00,   4.56666667e-01,   6.56666667e-01,\n",
       "           1.75666667e+00,  -9.43333333e-01,   1.45666667e+00,\n",
       "           8.56666667e-01,   1.35666667e+00,   6.56666667e-01,\n",
       "           5.56666667e-01,   9.56666667e-01,  -1.43333333e-01,\n",
       "          -4.33333333e-02,   5.56666667e-01,   6.56666667e-01,\n",
       "           1.85666667e+00,   1.85666667e+00,   1.56666667e-01,\n",
       "           1.05666667e+00,  -2.43333333e-01,   1.85666667e+00,\n",
       "           4.56666667e-01,   8.56666667e-01,   1.35666667e+00,\n",
       "           3.56666667e-01,   2.56666667e-01,   5.56666667e-01,\n",
       "           1.35666667e+00,   1.55666667e+00,   2.05666667e+00,\n",
       "           5.56666667e-01,   4.56666667e-01,   2.56666667e-01,\n",
       "           1.85666667e+00,   4.56666667e-01,   5.56666667e-01,\n",
       "           1.56666667e-01,   1.05666667e+00,   8.56666667e-01,\n",
       "           1.05666667e+00,  -4.33333333e-02,   9.56666667e-01,\n",
       "           8.56666667e-01,   8.56666667e-01,   4.56666667e-01,\n",
       "           6.56666667e-01,   3.56666667e-01,   5.66666667e-02],\n",
       "        [  4.46000000e-01,  -5.40000000e-02,   1.46000000e-01,\n",
       "           4.60000000e-02,   5.46000000e-01,   8.46000000e-01,\n",
       "           3.46000000e-01,   3.46000000e-01,  -1.54000000e-01,\n",
       "           4.60000000e-02,   6.46000000e-01,   3.46000000e-01,\n",
       "          -5.40000000e-02,  -5.40000000e-02,   9.46000000e-01,\n",
       "           1.34600000e+00,   8.46000000e-01,   4.46000000e-01,\n",
       "           7.46000000e-01,   7.46000000e-01,   3.46000000e-01,\n",
       "           6.46000000e-01,   5.46000000e-01,   2.46000000e-01,\n",
       "           3.46000000e-01,  -5.40000000e-02,   3.46000000e-01,\n",
       "           4.46000000e-01,   3.46000000e-01,   1.46000000e-01,\n",
       "           4.60000000e-02,   3.46000000e-01,   1.04600000e+00,\n",
       "           1.14600000e+00,   4.60000000e-02,   1.46000000e-01,\n",
       "           4.46000000e-01,   4.60000000e-02,  -5.40000000e-02,\n",
       "           3.46000000e-01,   4.46000000e-01,  -7.54000000e-01,\n",
       "           1.46000000e-01,   4.46000000e-01,   7.46000000e-01,\n",
       "          -5.40000000e-02,   7.46000000e-01,   1.46000000e-01,\n",
       "           6.46000000e-01,   2.46000000e-01,   1.46000000e-01,\n",
       "           1.46000000e-01,   4.60000000e-02,  -7.54000000e-01,\n",
       "          -2.54000000e-01,  -2.54000000e-01,   2.46000000e-01,\n",
       "          -6.54000000e-01,  -1.54000000e-01,  -3.54000000e-01,\n",
       "          -1.05400000e+00,  -5.40000000e-02,  -8.54000000e-01,\n",
       "          -1.54000000e-01,  -1.54000000e-01,   4.60000000e-02,\n",
       "          -5.40000000e-02,  -3.54000000e-01,  -8.54000000e-01,\n",
       "          -5.54000000e-01,   1.46000000e-01,  -2.54000000e-01,\n",
       "          -5.54000000e-01,  -2.54000000e-01,  -1.54000000e-01,\n",
       "          -5.40000000e-02,  -2.54000000e-01,  -5.40000000e-02,\n",
       "          -1.54000000e-01,  -4.54000000e-01,  -6.54000000e-01,\n",
       "          -6.54000000e-01,  -3.54000000e-01,  -3.54000000e-01,\n",
       "          -5.40000000e-02,   3.46000000e-01,   4.60000000e-02,\n",
       "          -7.54000000e-01,  -5.40000000e-02,  -5.54000000e-01,\n",
       "          -4.54000000e-01,  -5.40000000e-02,  -4.54000000e-01,\n",
       "          -7.54000000e-01,  -3.54000000e-01,  -5.40000000e-02,\n",
       "          -1.54000000e-01,  -1.54000000e-01,  -5.54000000e-01,\n",
       "          -2.54000000e-01,   2.46000000e-01,  -3.54000000e-01,\n",
       "          -5.40000000e-02,  -1.54000000e-01,  -5.40000000e-02,\n",
       "          -5.40000000e-02,  -5.54000000e-01,  -1.54000000e-01,\n",
       "          -5.54000000e-01,   5.46000000e-01,   1.46000000e-01,\n",
       "          -3.54000000e-01,  -5.40000000e-02,  -5.54000000e-01,\n",
       "          -2.54000000e-01,   1.46000000e-01,  -5.40000000e-02,\n",
       "           7.46000000e-01,  -4.54000000e-01,  -8.54000000e-01,\n",
       "           1.46000000e-01,  -2.54000000e-01,  -2.54000000e-01,\n",
       "          -3.54000000e-01,   2.46000000e-01,   1.46000000e-01,\n",
       "          -2.54000000e-01,  -5.40000000e-02,  -2.54000000e-01,\n",
       "          -5.40000000e-02,  -2.54000000e-01,   7.46000000e-01,\n",
       "          -2.54000000e-01,  -2.54000000e-01,  -4.54000000e-01,\n",
       "          -5.40000000e-02,   3.46000000e-01,   4.60000000e-02,\n",
       "          -5.40000000e-02,   4.60000000e-02,   4.60000000e-02,\n",
       "           4.60000000e-02,  -3.54000000e-01,   1.46000000e-01,\n",
       "           2.46000000e-01,  -5.40000000e-02,  -5.54000000e-01,\n",
       "          -5.40000000e-02,   3.46000000e-01,  -5.40000000e-02],\n",
       "        [ -2.35866667e+00,  -2.35866667e+00,  -2.45866667e+00,\n",
       "          -2.25866667e+00,  -2.35866667e+00,  -2.05866667e+00,\n",
       "          -2.35866667e+00,  -2.25866667e+00,  -2.35866667e+00,\n",
       "          -2.25866667e+00,  -2.25866667e+00,  -2.15866667e+00,\n",
       "          -2.35866667e+00,  -2.65866667e+00,  -2.55866667e+00,\n",
       "          -2.25866667e+00,  -2.45866667e+00,  -2.35866667e+00,\n",
       "          -2.05866667e+00,  -2.25866667e+00,  -2.05866667e+00,\n",
       "          -2.25866667e+00,  -2.75866667e+00,  -2.05866667e+00,\n",
       "          -1.85866667e+00,  -2.15866667e+00,  -2.15866667e+00,\n",
       "          -2.25866667e+00,  -2.35866667e+00,  -2.15866667e+00,\n",
       "          -2.15866667e+00,  -2.25866667e+00,  -2.25866667e+00,\n",
       "          -2.35866667e+00,  -2.25866667e+00,  -2.55866667e+00,\n",
       "          -2.45866667e+00,  -2.25866667e+00,  -2.45866667e+00,\n",
       "          -2.25866667e+00,  -2.45866667e+00,  -2.45866667e+00,\n",
       "          -2.45866667e+00,  -2.15866667e+00,  -1.85866667e+00,\n",
       "          -2.35866667e+00,  -2.15866667e+00,  -2.35866667e+00,\n",
       "          -2.25866667e+00,  -2.35866667e+00,   9.41333333e-01,\n",
       "           7.41333333e-01,   1.14133333e+00,   2.41333333e-01,\n",
       "           8.41333333e-01,   7.41333333e-01,   9.41333333e-01,\n",
       "          -4.58666667e-01,   8.41333333e-01,   1.41333333e-01,\n",
       "          -2.58666667e-01,   4.41333333e-01,   2.41333333e-01,\n",
       "           9.41333333e-01,  -1.58666667e-01,   6.41333333e-01,\n",
       "           7.41333333e-01,   3.41333333e-01,   7.41333333e-01,\n",
       "           1.41333333e-01,   1.04133333e+00,   2.41333333e-01,\n",
       "           1.14133333e+00,   9.41333333e-01,   5.41333333e-01,\n",
       "           6.41333333e-01,   1.04133333e+00,   1.24133333e+00,\n",
       "           7.41333333e-01,  -2.58666667e-01,   4.13333333e-02,\n",
       "          -5.86666667e-02,   1.41333333e-01,   1.34133333e+00,\n",
       "           7.41333333e-01,   7.41333333e-01,   9.41333333e-01,\n",
       "           6.41333333e-01,   3.41333333e-01,   2.41333333e-01,\n",
       "           6.41333333e-01,   8.41333333e-01,   2.41333333e-01,\n",
       "          -4.58666667e-01,   4.41333333e-01,   4.41333333e-01,\n",
       "           4.41333333e-01,   5.41333333e-01,  -7.58666667e-01,\n",
       "           3.41333333e-01,   2.24133333e+00,   1.34133333e+00,\n",
       "           2.14133333e+00,   1.84133333e+00,   2.04133333e+00,\n",
       "           2.84133333e+00,   7.41333333e-01,   2.54133333e+00,\n",
       "           2.04133333e+00,   2.34133333e+00,   1.34133333e+00,\n",
       "           1.54133333e+00,   1.74133333e+00,   1.24133333e+00,\n",
       "           1.34133333e+00,   1.54133333e+00,   1.74133333e+00,\n",
       "           2.94133333e+00,   3.14133333e+00,   1.24133333e+00,\n",
       "           1.94133333e+00,   1.14133333e+00,   2.94133333e+00,\n",
       "           1.14133333e+00,   1.94133333e+00,   2.24133333e+00,\n",
       "           1.04133333e+00,   1.14133333e+00,   1.84133333e+00,\n",
       "           2.04133333e+00,   2.34133333e+00,   2.64133333e+00,\n",
       "           1.84133333e+00,   1.34133333e+00,   1.84133333e+00,\n",
       "           2.34133333e+00,   1.84133333e+00,   1.74133333e+00,\n",
       "           1.04133333e+00,   1.64133333e+00,   1.84133333e+00,\n",
       "           1.34133333e+00,   1.34133333e+00,   2.14133333e+00,\n",
       "           1.94133333e+00,   1.44133333e+00,   1.24133333e+00,\n",
       "           1.44133333e+00,   1.64133333e+00,   1.34133333e+00],\n",
       "        [ -9.98666667e-01,  -9.98666667e-01,  -9.98666667e-01,\n",
       "          -9.98666667e-01,  -9.98666667e-01,  -7.98666667e-01,\n",
       "          -8.98666667e-01,  -9.98666667e-01,  -9.98666667e-01,\n",
       "          -1.09866667e+00,  -9.98666667e-01,  -9.98666667e-01,\n",
       "          -1.09866667e+00,  -1.09866667e+00,  -9.98666667e-01,\n",
       "          -7.98666667e-01,  -7.98666667e-01,  -8.98666667e-01,\n",
       "          -8.98666667e-01,  -8.98666667e-01,  -9.98666667e-01,\n",
       "          -7.98666667e-01,  -9.98666667e-01,  -6.98666667e-01,\n",
       "          -9.98666667e-01,  -9.98666667e-01,  -7.98666667e-01,\n",
       "          -9.98666667e-01,  -9.98666667e-01,  -9.98666667e-01,\n",
       "          -9.98666667e-01,  -7.98666667e-01,  -1.09866667e+00,\n",
       "          -9.98666667e-01,  -1.09866667e+00,  -9.98666667e-01,\n",
       "          -9.98666667e-01,  -1.09866667e+00,  -9.98666667e-01,\n",
       "          -9.98666667e-01,  -8.98666667e-01,  -8.98666667e-01,\n",
       "          -9.98666667e-01,  -5.98666667e-01,  -7.98666667e-01,\n",
       "          -8.98666667e-01,  -9.98666667e-01,  -9.98666667e-01,\n",
       "          -9.98666667e-01,  -9.98666667e-01,   2.01333333e-01,\n",
       "           3.01333333e-01,   3.01333333e-01,   1.01333333e-01,\n",
       "           3.01333333e-01,   1.01333333e-01,   4.01333333e-01,\n",
       "          -1.98666667e-01,   1.01333333e-01,   2.01333333e-01,\n",
       "          -1.98666667e-01,   3.01333333e-01,  -1.98666667e-01,\n",
       "           2.01333333e-01,   1.01333333e-01,   2.01333333e-01,\n",
       "           3.01333333e-01,  -1.98666667e-01,   3.01333333e-01,\n",
       "          -9.86666667e-02,   6.01333333e-01,   1.01333333e-01,\n",
       "           3.01333333e-01,   1.33333333e-03,   1.01333333e-01,\n",
       "           2.01333333e-01,   2.01333333e-01,   5.01333333e-01,\n",
       "           3.01333333e-01,  -1.98666667e-01,  -9.86666667e-02,\n",
       "          -1.98666667e-01,   1.33333333e-03,   4.01333333e-01,\n",
       "           3.01333333e-01,   4.01333333e-01,   3.01333333e-01,\n",
       "           1.01333333e-01,   1.01333333e-01,   1.01333333e-01,\n",
       "           1.33333333e-03,   2.01333333e-01,   1.33333333e-03,\n",
       "          -1.98666667e-01,   1.01333333e-01,   1.33333333e-03,\n",
       "           1.01333333e-01,   1.01333333e-01,  -9.86666667e-02,\n",
       "           1.01333333e-01,   1.30133333e+00,   7.01333333e-01,\n",
       "           9.01333333e-01,   6.01333333e-01,   1.00133333e+00,\n",
       "           9.01333333e-01,   5.01333333e-01,   6.01333333e-01,\n",
       "           6.01333333e-01,   1.30133333e+00,   8.01333333e-01,\n",
       "           7.01333333e-01,   9.01333333e-01,   8.01333333e-01,\n",
       "           1.20133333e+00,   1.10133333e+00,   6.01333333e-01,\n",
       "           1.00133333e+00,   1.10133333e+00,   3.01333333e-01,\n",
       "           1.10133333e+00,   8.01333333e-01,   8.01333333e-01,\n",
       "           6.01333333e-01,   9.01333333e-01,   6.01333333e-01,\n",
       "           6.01333333e-01,   6.01333333e-01,   9.01333333e-01,\n",
       "           4.01333333e-01,   7.01333333e-01,   8.01333333e-01,\n",
       "           1.00133333e+00,   3.01333333e-01,   2.01333333e-01,\n",
       "           1.10133333e+00,   1.20133333e+00,   6.01333333e-01,\n",
       "           6.01333333e-01,   9.01333333e-01,   1.20133333e+00,\n",
       "           1.10133333e+00,   7.01333333e-01,   1.10133333e+00,\n",
       "           1.30133333e+00,   1.10133333e+00,   7.01333333e-01,\n",
       "           8.01333333e-01,   1.10133333e+00,   6.01333333e-01]])"
      ]
     },
     "execution_count": 62,
     "metadata": {},
     "output_type": "execute_result"
    }
   ],
   "source": [
    "featuremat"
   ]
  },
  {
   "cell_type": "code",
   "execution_count": 63,
   "metadata": {},
   "outputs": [],
   "source": [
    "Cov = 1/len(feature)*featuremat*featuremat.T"
   ]
  },
  {
   "cell_type": "code",
   "execution_count": 64,
   "metadata": {},
   "outputs": [
    {
     "data": {
      "text/plain": [
       "matrix([[ 0.68112222, -0.03900667,  1.26519111,  0.51345778],\n",
       "        [-0.03900667,  0.18675067, -0.319568  , -0.11719467],\n",
       "        [ 1.26519111, -0.319568  ,  3.09242489,  1.28774489],\n",
       "        [ 0.51345778, -0.11719467,  1.28774489,  0.57853156]])"
      ]
     },
     "execution_count": 64,
     "metadata": {},
     "output_type": "execute_result"
    }
   ],
   "source": [
    "Cov"
   ]
  },
  {
   "cell_type": "code",
   "execution_count": 65,
   "metadata": {},
   "outputs": [],
   "source": [
    "tz = np.linalg.eig(Cov)"
   ]
  },
  {
   "cell_type": "code",
   "execution_count": 66,
   "metadata": {},
   "outputs": [
    {
     "data": {
      "text/plain": [
       "matrix([[ 0.36158968, -0.65653988, -0.58099728,  0.31725455],\n",
       "        [-0.08226889, -0.72971237,  0.59641809, -0.32409435],\n",
       "        [ 0.85657211,  0.1757674 ,  0.07252408, -0.47971899],\n",
       "        [ 0.35884393,  0.07470647,  0.54906091,  0.75112056]])"
      ]
     },
     "execution_count": 66,
     "metadata": {},
     "output_type": "execute_result"
    }
   ],
   "source": [
    "tz[1][:]"
   ]
  },
  {
   "cell_type": "code",
   "execution_count": 67,
   "metadata": {},
   "outputs": [],
   "source": [
    "def generateP(k,vecs):\n",
    "    return np.matrix(vecs[0:k])"
   ]
  },
  {
   "cell_type": "code",
   "execution_count": 68,
   "metadata": {},
   "outputs": [],
   "source": [
    "P = generateP(2,tz[1])"
   ]
  },
  {
   "cell_type": "code",
   "execution_count": 69,
   "metadata": {},
   "outputs": [
    {
     "data": {
      "text/plain": [
       "matrix([[ 0.36158968, -0.65653988, -0.58099728,  0.31725455],\n",
       "        [-0.08226889, -0.72971237,  0.59641809, -0.32409435]])"
      ]
     },
     "execution_count": 69,
     "metadata": {},
     "output_type": "execute_result"
    }
   ],
   "source": [
    "P"
   ]
  },
  {
   "cell_type": "code",
   "execution_count": 79,
   "metadata": {},
   "outputs": [],
   "source": [
    "Y1 = P*f1\n",
    "Y2 = P*f2\n",
    "Y3 = P*f3"
   ]
  },
  {
   "cell_type": "code",
   "execution_count": 87,
   "metadata": {},
   "outputs": [],
   "source": [
    "x1 = (Y1[0].tolist())[0]\n",
    "y1 = (Y1[1].tolist())[0]\n",
    "x2 = (Y2[0].tolist())[0]\n",
    "y2 = (Y2[1].tolist())[0]\n",
    "x3 = (Y3[0].tolist())[0]\n",
    "y3 = (Y3[1].tolist())[0]"
   ]
  },
  {
   "cell_type": "code",
   "execution_count": 90,
   "metadata": {},
   "outputs": [
    {
     "data": {
      "text/plain": [
       "[-2.203398185463285,\n",
       " -1.8220882218215935,\n",
       " -2.0112187269022606,\n",
       " -1.8107369831927684,\n",
       " -2.2681425336067136,\n",
       " -2.4058572450637112,\n",
       " -2.121701938626325,\n",
       " -2.0625582505476032,\n",
       " -1.7079825397428363,\n",
       " -1.8030082149186362,\n",
       " -2.314379517902439,\n",
       " -1.98646266377535,\n",
       " -1.7814518975905749,\n",
       " -1.9192428790258986,\n",
       " -2.745126211638705,\n",
       " -2.914677715282246,\n",
       " -2.644424480238953,\n",
       " -2.2358076207050823,\n",
       " -2.325157239656929,\n",
       " -2.3950795233092212,\n",
       " -1.9761821889168685,\n",
       " -2.3545177214183686,\n",
       " -2.473802212825069,\n",
       " -1.9757585905419448,\n",
       " -1.8075372373939187,\n",
       " -1.711031493223194,\n",
       " -2.067735312237387,\n",
       " -2.1519832656586964,\n",
       " -2.1386538373198567,\n",
       " -1.8322933005208293,\n",
       " -1.7675489523774008,\n",
       " -2.1602846769880832,\n",
       " -2.5574012532127974,\n",
       " -2.74710440134872,\n",
       " -1.8030082149186362,\n",
       " -2.0955412026637354,\n",
       " -2.2959475502139814,\n",
       " -1.8030082149186362,\n",
       " -1.8405955856692964,\n",
       " -2.070785139536825,\n",
       " -2.287222540509671,\n",
       " -1.3704332499717662,\n",
       " -1.986538059934596,\n",
       " -2.2055254198536307,\n",
       " -2.188921723375776,\n",
       " -1.8462707680741692,\n",
       " -2.3030282792736134,\n",
       " -1.9433500291192287,\n",
       " -2.3061526289132175,\n",
       " -2.049228822208764,\n",
       " -0.5615288975663635]"
      ]
     },
     "execution_count": 90,
     "metadata": {},
     "output_type": "execute_result"
    }
   ],
   "source": [
    "y1"
   ]
  },
  {
   "cell_type": "code",
   "execution_count": 95,
   "metadata": {},
   "outputs": [
    {
     "data": {
      "image/png": "[encoded data removed]",
      "text/plain": [
       "<matplotlib.figure.Figure at 0xff734eb5f8>"
      ]
     },
     "metadata": {},
     "output_type": "display_data"
    }
   ],
   "source": [
    "import matplotlib.pyplot as plt\n",
    "plt.scatter(x1, y1, marker = 'x', color = 'red', s = 10, label = 'Iris-setosa')\n",
    "plt.scatter(x2, y2, marker = '+', color = 'blue', s = 10, label = 'Iris-versicolor')\n",
    "plt.scatter(x3, y3, marker = 'o', color = 'green', s = 10, label = 'Iris-virginica')\n",
    "plt.legend(loc = 'best')\n",
    "plt.show()"
   ]
  },
  {
   "cell_type": "code",
   "execution_count": 54,
   "metadata": {},
   "outputs": [],
   "source": [
    "from numpy import *\n",
    "def pca():\n",
    "    a = (input()).split(' ')\n",
    "    data = []\n",
    "    m = int(a[0])\n",
    "    n = int(a[1])\n",
    "    k = int(a[2])\n",
    "    #print(m,n,k)\n",
    "    for i in range(m):\n",
    "        line = (input()).split(',')\n",
    "        for i in range(len(line)):\n",
    "            line[i] = float(line[i])\n",
    "        data.append(line)\n",
    "    feature = data\n",
    "    featuremat = transpose(feature)\n",
    "    #print(featuremat)\n",
    "    #零均值化\n",
    "    for i in range(len(featuremat)):\n",
    "        featuremat[i] -= mean(featuremat[i])\n",
    "    Cov = cov(featuremat)\n",
    "    tz = linalg.eig(Cov)\n",
    "    p = ((tz[1].T)[0:k]).T\n",
    "    s = \"\"\n",
    "    for i in range(k):\n",
    "        s = s + str(tz[0][i]) + \" \"\n",
    "    print(s)\n",
    "    for i in range(n):\n",
    "        s = \"\"\n",
    "        for j in range(k):\n",
    "            s = s + str(p[i][j]) + \" \"\n",
    "        print(s)\n",
    "    \n",
    "    shuchu3 = dot(transpose(featuremat),p)\n",
    "    for i in range(m):\n",
    "        s = \"\"\n",
    "        for j in range(k):\n",
    "            s = s + str(shuchu3[i][j]) + \" \"\n",
    "        print(s)\n",
    "    \n",
    "def transpose(matrix):\n",
    "        new_matrix = []\n",
    "        for i in range(len(matrix[0])):\n",
    "            matrix1 = []\n",
    "            for j in range(len(matrix)):\n",
    "                matrix1.append(matrix[j][i])\n",
    "            new_matrix.append(matrix1)\n",
    "        return new_matrix\n"
   ]
  },
  {
   "cell_type": "code",
   "execution_count": 53,
   "metadata": {},
   "outputs": [
    {
     "name": "stdout",
     "output_type": "stream",
     "text": [
      "4 3 2\n",
      "2,0,-1.4\n",
      "2.2,0.2,1.5\n",
      "2.4,0.1,-1\n",
      "1.9,0,-1.2\n",
      "0.0456720937022 \n",
      "0.0522743987378 0.982401884141 \n",
      "0.0644998546923 0.17586430529 \n",
      "0.996547618522 -0.0629148961714 \n",
      "-0.883350955151 -0.0809395242645 \n",
      "2.02999198925 -0.0317394852752 \n",
      "-0.457372162778 0.304441701453 \n",
      "-0.68926887132 -0.191762691913 \n"
     ]
    }
   ],
   "source": [
    "pca()"
   ]
  },
  {
   "cell_type": "code",
   "execution_count": 34,
   "metadata": {},
   "outputs": [
    {
     "ename": "NameError",
     "evalue": "name 'inverse' is not defined",
     "output_type": "error",
     "traceback": [
      "\u001b[1;31m------------------------------------------------------------------------\u001b[0m",
      "\u001b[1;31mNameError\u001b[0m                              Traceback (most recent call last)",
      "\u001b[1;32m<ipython-input-34-50b4713d0777>\u001b[0m in \u001b[0;36m<module>\u001b[1;34m()\u001b[0m\n\u001b[0;32m      1\u001b[0m \u001b[0ma\u001b[0m \u001b[1;33m=\u001b[0m \u001b[1;33m[\u001b[0m\u001b[1;36m1\u001b[0m\u001b[1;33m,\u001b[0m\u001b[1;36m2\u001b[0m\u001b[1;33m,\u001b[0m\u001b[1;36m3\u001b[0m\u001b[1;33m]\u001b[0m\u001b[1;33m\u001b[0m\u001b[0m\n\u001b[1;32m----> 2\u001b[1;33m \u001b[0minverse\u001b[0m\u001b[1;33m(\u001b[0m\u001b[0ma\u001b[0m\u001b[1;33m)\u001b[0m\u001b[1;33m\u001b[0m\u001b[0m\n\u001b[0m",
      "\u001b[1;31mNameError\u001b[0m: name 'inverse' is not defined"
     ]
    }
   ],
   "source": [
    "a = [1,2,3]\n"
   ]
  },
  {
   "cell_type": "code",
   "execution_count": null,
   "metadata": {},
   "outputs": [],
   "source": []
  }
 ],
 "metadata": {
  "kernelspec": {
   "display_name": "Python 3",
   "language": "python",
   "name": "python3"
  },
  "language_info": {
   "codemirror_mode": {
    "name": "ipython",
    "version": 3
   },
   "file_extension": ".py",
   "mimetype": "text/x-python",
   "name": "python",
   "nbconvert_exporter": "python",
   "pygments_lexer": "ipython3",
   "version": "3.5.5"
  }
 },
 "nbformat": 4,
 "nbformat_minor": 2
}
